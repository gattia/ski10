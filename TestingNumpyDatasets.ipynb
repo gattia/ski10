{
 "cells": [
  {
   "cell_type": "markdown",
   "metadata": {},
   "source": [
    "## The files are correctly aligned\n",
    "Based on the below playing, it does appear as though the images hvae been concatenated in the correct dimensions. This means that the correct images/labels are being used for training the neural network. "
   ]
  },
  {
   "cell_type": "code",
   "execution_count": 1,
   "metadata": {
    "collapsed": true
   },
   "outputs": [],
   "source": [
    "import numpy\n",
    "import os\n",
    "import glob\n",
    "import matplotlib.pyplot as plt\n",
    "%matplotlib inline"
   ]
  },
  {
   "cell_type": "code",
   "execution_count": 2,
   "metadata": {
    "collapsed": true
   },
   "outputs": [],
   "source": [
    "dataLocation = '/Users/gattia/Data/mri/ski10Dataset/numpyTraining/'\n",
    "trainingImages = 'padded_training_images.npy' #train_images.npy'\n",
    "trainingLabels = 'padded_training_labels.npy'"
   ]
  },
  {
   "cell_type": "code",
   "execution_count": 3,
   "metadata": {
    "collapsed": true
   },
   "outputs": [],
   "source": [
    "def import_and_process(trainingImagesLocation, testingImagesLocation):\n",
    "    print('-'*30)\n",
    "    print('Loading and preprocessing train data...')\n",
    "    print('-'*30)\n",
    "    trainImages = (numpy.load(trainingImagesLocation)).astype(numpy.float16)\n",
    "    trainLabels = (numpy.load(testingImagesLocation)).astype(numpy.int8)\n",
    "#     trainLabels = preprocess(trainLabels)\n",
    "#     trainImages = preprocessImages(trainImages)\n",
    "    return(trainLabels, trainImages)"
   ]
  },
  {
   "cell_type": "code",
   "execution_count": null,
   "metadata": {
    "collapsed": true
   },
   "outputs": [],
   "source": [
    "def preprocess(labels):\n",
    "    labels[numpy.where(labels==1)] = 0\n",
    "    labels[numpy.where(labels==3)] = 0\n",
    "    labels[numpy.where(labels==2)] = 1\n",
    "    labels[numpy.where(labels==4)] = 1\n",
    "    return labels\n",
    "\n",
    "def preprocessImages(images):\n",
    "    for slice in range(images.shape[0]):\n",
    "        mean = numpy.mean(numpy.mean(images,axis=1),1)  \n",
    "        std = numpy.std(numpy.std(images,axis=1), axis=1)\n",
    "    \n",
    "        images -= mean\n",
    "        images /= std\n",
    "    \n",
    "    return(images)"
   ]
  },
  {
   "cell_type": "code",
   "execution_count": 4,
   "metadata": {
    "collapsed": false
   },
   "outputs": [
    {
     "name": "stdout",
     "output_type": "stream",
     "text": [
      "------------------------------\n",
      "Loading and preprocessing train data...\n",
      "------------------------------\n"
     ]
    }
   ],
   "source": [
    "trainLabels, trainImages = import_and_process(dataLocation+trainingImages, dataLocation+trainingLabels)"
   ]
  },
  {
   "cell_type": "code",
   "execution_count": 5,
   "metadata": {
    "collapsed": true
   },
   "outputs": [],
   "source": [
    "mean = numpy.mean(numpy.mean(trainImages, axis=1),axis=1)\n"
   ]
  },
  {
   "cell_type": "code",
   "execution_count": 8,
   "metadata": {
    "collapsed": true
   },
   "outputs": [],
   "source": [
    "mean = numpy.squeeze(mean)"
   ]
  },
  {
   "cell_type": "code",
   "execution_count": 9,
   "metadata": {
    "collapsed": false
   },
   "outputs": [
    {
     "ename": "ValueError",
     "evalue": "operands could not be broadcast together with shapes (8715,320,256) (8715,) ",
     "output_type": "error",
     "traceback": [
      "\u001b[0;31m---------------------------------------------------------------------------\u001b[0m",
      "\u001b[0;31mValueError\u001b[0m                                Traceback (most recent call last)",
      "\u001b[0;32m<ipython-input-9-45ef43dd40a1>\u001b[0m in \u001b[0;36m<module>\u001b[0;34m()\u001b[0m\n\u001b[0;32m----> 1\u001b[0;31m \u001b[0mresult\u001b[0m \u001b[0;34m=\u001b[0m \u001b[0mtrainImages\u001b[0m\u001b[0;34m-\u001b[0m\u001b[0mmean\u001b[0m\u001b[0;34m\u001b[0m\u001b[0m\n\u001b[0m",
      "\u001b[0;31mValueError\u001b[0m: operands could not be broadcast together with shapes (8715,320,256) (8715,) "
     ]
    }
   ],
   "source": [
    "result = trainImages-mean"
   ]
  },
  {
   "cell_type": "markdown",
   "metadata": {},
   "source": []
  },
  {
   "cell_type": "code",
   "execution_count": null,
   "metadata": {
    "collapsed": false
   },
   "outputs": [],
   "source": [
    "slice = 500\n",
    "plt.imshow(trainImages[slice,:,:], cmap='gray')"
   ]
  },
  {
   "cell_type": "code",
   "execution_count": null,
   "metadata": {
    "collapsed": true
   },
   "outputs": [],
   "source": []
  },
  {
   "cell_type": "code",
   "execution_count": null,
   "metadata": {
    "collapsed": false
   },
   "outputs": [],
   "source": [
    "# listSlices = numpy.linspace(1,8000,num=100)\n",
    "# for slice in listSlices:\n",
    "#     plt.figure(slice, figsize=(20,20))\n",
    "#     plt.subplot(211)\n",
    "#     plt.imshow(trainImages[slice,:,:], cmap ='gray')\n",
    "#     plt.subplot(212)\n",
    "#     plt.imshow(trainLabels[slice,:,:])"
   ]
  },
  {
   "cell_type": "code",
   "execution_count": null,
   "metadata": {
    "collapsed": true
   },
   "outputs": [],
   "source": [
    " "
   ]
  }
 ],
 "metadata": {
  "kernelspec": {
   "display_name": "Python 2",
   "language": "python",
   "name": "python2"
  },
  "language_info": {
   "codemirror_mode": {
    "name": "ipython",
    "version": 2
   },
   "file_extension": ".py",
   "mimetype": "text/x-python",
   "name": "python",
   "nbconvert_exporter": "python",
   "pygments_lexer": "ipython2",
   "version": "2.7.11"
  }
 },
 "nbformat": 4,
 "nbformat_minor": 0
}
