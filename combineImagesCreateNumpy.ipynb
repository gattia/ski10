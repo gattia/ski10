{
 "cells": [
  {
   "cell_type": "markdown",
   "metadata": {},
   "source": [
    "## Concatenate Image Numpy Array\n",
    "To make this simple, we are not going to scale the third dimension. Instead we are just going to take each slice of each image and assume it is a different example. This way we can concatenate all of the slices and we will end up with a giant matrix with dimenions equal to the output size for the first 2 dimensions (320x256) and then equal to the sum of the number of slices for all of the images for the third dimension. \n",
    "\n",
    "This actually signicantly increases our sample size. It goes from 80 images to 80x100 slices or so and gives us ~8000 images/examples to play with. \n",
    "\n",
    "One of the biggest limitaitons here is that there wont be context in that third dimension. For that reason, it might be interesting to add a \"feature\" to each image. That feature might be the normalized slice number so that we get an indication of whether it is on on the edge or in the middle of the image. This might drastically help the segmentation without requiring a 3D segmentation. Though, the 3D segmentation would be the ideal end result. \n",
    "\n",
    "In the next steps, it will be important to augment this dataset by making \"more\" examples. I will create more examples by flipping the images, and by creating small pertubrations that slighlty warp the images. Though, this will only be implemented once the basic functionality of the network is known to be working. "
   ]
  },
  {
   "cell_type": "code",
   "execution_count": 1,
   "metadata": {
    "collapsed": true
   },
   "outputs": [],
   "source": [
    "import SimpleITK as sitk\n",
    "import numpy\n",
    "import os\n",
    "import glob"
   ]
  },
  {
   "cell_type": "code",
   "execution_count": 23,
   "metadata": {
    "collapsed": true
   },
   "outputs": [],
   "source": [
    "paddedImagesLocation = '/Users/gattia/Data/mri/ski10Dataset/paddedImages/'\n",
    "numpySaveLocation = '/Users/gattia/Data/mri/ski10Dataset/numpyTraining/'\n",
    "trainImagesName = 'padded_training_images'\n",
    "labelImagesName = 'padded_training_labels'\n",
    "outputSize = [320,256]"
   ]
  },
  {
   "cell_type": "code",
   "execution_count": 21,
   "metadata": {
    "collapsed": true
   },
   "outputs": [],
   "source": [
    "def importImageAdd2Array(numpyArray, newImageName):\n",
    "    image = sitk.ReadImage(newImageName)\n",
    "    imageArray = sitk.GetArrayFromImage(image)\n",
    "    concatenatedArray = numpy.concatenate((numpyArray, imageArray), axis=0)\n",
    "    return(concatenatedArray)\n"
   ]
  },
  {
   "cell_type": "code",
   "execution_count": 22,
   "metadata": {
    "collapsed": false
   },
   "outputs": [],
   "source": [
    "concatenatedImages = numpy.empty([1,outputSize[0], outputSize[1]])\n",
    "concatenatedLabels = numpy.empty([1,outputSize[0], outputSize[1]])\n",
    "\n",
    "os.chdir(paddedImagesLocation)\n",
    "imageNames = glob.glob('image-*-padded.mha')\n",
    "labelNames = glob.glob('labels-*-padded.mha')\n",
    "for imageName in imageNames:\n",
    "    concatenatedImages = importImageAdd2Array(concatenatedImages, imageName)\n",
    "\n",
    "for labelName in labelNames:\n",
    "    concatenatedLabels = importImageAdd2Array(concatenatedLabels, labelName)"
   ]
  },
  {
   "cell_type": "code",
   "execution_count": 24,
   "metadata": {
    "collapsed": true
   },
   "outputs": [],
   "source": [
    "numpy.save(numpySaveLocation+trainImagesName+'.npy', concatenatedImages)\n",
    "numpy.save(numpySaveLocation+labelImagesName+'.npy', concatenatedLabels)"
   ]
  }
 ],
 "metadata": {
  "kernelspec": {
   "display_name": "Python 2",
   "language": "python",
   "name": "python2"
  },
  "language_info": {
   "codemirror_mode": {
    "name": "ipython",
    "version": 2
   },
   "file_extension": ".py",
   "mimetype": "text/x-python",
   "name": "python",
   "nbconvert_exporter": "python",
   "pygments_lexer": "ipython2",
   "version": "2.7.11"
  }
 },
 "nbformat": 4,
 "nbformat_minor": 0
}
