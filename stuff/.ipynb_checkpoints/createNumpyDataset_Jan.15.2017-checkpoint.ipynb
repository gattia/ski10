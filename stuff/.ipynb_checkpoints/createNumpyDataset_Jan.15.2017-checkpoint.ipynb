{
 "cells": [
  {
   "cell_type": "code",
   "execution_count": 1,
   "metadata": {
    "collapsed": false,
    "scrolled": true
   },
   "outputs": [],
   "source": [
    "from __future__ import division\n",
    "import SimpleITK as sitk\n",
    "import numpy\n",
    "import os\n",
    "import glob\n",
    "import matplotlib.pyplot as plt\n",
    "from skimage import transform as tf\n",
    "import math \n",
    "from hurry.filesize import size\n",
    "from hurry.filesize import alternative\n",
    "from sys import getsizeof\n",
    "import json\n",
    "%matplotlib inline"
   ]
  },
  {
   "cell_type": "markdown",
   "metadata": {},
   "source": [
    "Define location of Images to Train on"
   ]
  },
  {
   "cell_type": "code",
   "execution_count": 2,
   "metadata": {
    "collapsed": true
   },
   "outputs": [],
   "source": [
    "#locationImages = ['/Users/gattia/Data/mri/ski10Dataset/TrainingData-A/', '/Users/gattia/Data/mri/ski10Dataset/TrainingData-C/']\n",
    "locationImages = ['/vol/data/TrainingData-A/', '/vol/data/TrainingData-C/']\n",
    "location2SaveNumpy = '/vol/data/'"
   ]
  },
  {
   "cell_type": "code",
   "execution_count": 3,
   "metadata": {
    "collapsed": false
   },
   "outputs": [],
   "source": [
    "def importImageExtractArray(imageName):\n",
    "    flipper = sitk.FlipImageFilter()\n",
    "    flipper.SetFlipAxes([True, False, False])\n",
    "    image = sitk.ReadImage(imageName)\n",
    "    flippedImage = flipper.Execute(image)\n",
    "    imageArray = sitk.GetArrayFromImage(image)\n",
    "    flippedImageArray = sitk.GetArrayFromImage(flippedImage)\n",
    "    return(imageArray, flippedImageArray)\n",
    "\n",
    "def padImage(image, desiredShape):\n",
    "    shapeOriginal = image.shape\n",
    "    differenceX = desiredShape[0] - shapeOriginal[0]\n",
    "    differenceY = desiredShape[1] - shapeOriginal[1]\n",
    "    differenceZ = desiredShape[2] - shapeOriginal[2]\n",
    "    halfDiffX = differenceX/2\n",
    "    halfDiffY = differenceY/2\n",
    "    halfDiffZ = differenceZ/2\n",
    "    #Pad x- dimension\n",
    "    if (differenceX % 2 == 0): \n",
    "        paddedArray = numpy.pad(image, [[int(halfDiffX), int(halfDiffX)], [0,0], [0,0]], 'constant', constant_values=(0))\n",
    "    else: \n",
    "        paddedArray = numpy.pad(image, [[int(math.ceil(halfDiffX)), int(math.floor(halfDiffX))], [0,0], [0,0]], 'constant', constant_values=(0))\n",
    "    \n",
    "    #pad y-dimension\n",
    "    if (differenceY % 2 == 0): \n",
    "        paddedArray = numpy.pad(paddedArray, [[0,0],[int(halfDiffY), int(halfDiffY)], [0,0]], 'constant', constant_values=(0))\n",
    "    else: \n",
    "        paddedArray = numpy.pad(paddedArray, [[0,0],[int(math.ceil(halfDiffY)), int(math.floor(halfDiffY))], [0,0]], 'constant', constant_values=(0))\n",
    "    \n",
    "    #pad z-dimension\n",
    "    if (differenceZ % 2 == 0): \n",
    "        paddedArray = numpy.pad(paddedArray, [[0,0], [0,0], [int(halfDiffZ), int(halfDiffZ)]], 'constant', constant_values=(0))\n",
    "    else: \n",
    "        paddedArray = numpy.pad(paddedArray, [[0,0], [0,0], [int(math.ceil(halfDiffZ)), int(math.floor(halfDiffZ))]], 'constant', constant_values=(0))\n",
    "    \n",
    "    return(paddedArray)"
   ]
  },
  {
   "cell_type": "markdown",
   "metadata": {},
   "source": [
    "Import images and labels from the two folders that contain them. Flip each image in the AP direction. This will double the sample. \n",
    "\n",
    "* Save all images including flipped in imagesDictionary. \n",
    "* Save all labels in labelsDictionary."
   ]
  },
  {
   "cell_type": "code",
   "execution_count": 4,
   "metadata": {
    "collapsed": true
   },
   "outputs": [],
   "source": [
    "def memoryDictionary(dictionary):\n",
    "    memory = 0\n",
    "    for item in dictionary:\n",
    "        memory += dictionary[item].nbytes\n",
    "    sensicleMemory = size(memory, system=alternative)\n",
    "    return(sensicleMemory)"
   ]
  },
  {
   "cell_type": "code",
   "execution_count": 5,
   "metadata": {
    "collapsed": false
   },
   "outputs": [],
   "source": [
    "imagesDictionary = {}\n",
    "os.chdir(locationImages[0])\n",
    "imageNames = glob.glob('image-*.mhd')\n",
    "for imageName in imageNames:\n",
    "    imagesDictionary[imageName[:9]], imagesDictionary[imageName[:9] + '-Flipped'] = importImageExtractArray(imageName)\n",
    "\n",
    "# os.chdir(locationImages[1])\n",
    "# imageNames = glob.glob('image-*.mhd')\n",
    "# for imageName in imageNames: \n",
    "#     imagesDictionary[imageName[:9]], imagesDictionary[imageName[:9] + '-Flipped'] = importImageExtractArray(imageName)"
   ]
  },
  {
   "cell_type": "code",
   "execution_count": 6,
   "metadata": {
    "collapsed": false
   },
   "outputs": [
    {
     "data": {
      "text/plain": [
       "dtype('int16')"
      ]
     },
     "execution_count": 6,
     "metadata": {},
     "output_type": "execute_result"
    }
   ],
   "source": [
    "imagesDictionary[imageName[:9]].dtype"
   ]
  },
  {
   "cell_type": "code",
   "execution_count": 7,
   "metadata": {
    "collapsed": false
   },
   "outputs": [
    {
     "name": "stdout",
     "output_type": "stream",
     "text": [
      "1 GB\n"
     ]
    }
   ],
   "source": [
    "print(memoryDictionary(imagesDictionary))"
   ]
  },
  {
   "cell_type": "code",
   "execution_count": 8,
   "metadata": {
    "collapsed": true
   },
   "outputs": [],
   "source": [
    "labelsDictionary = {}\n",
    "os.chdir(locationImages[0])\n",
    "labelNames = glob.glob('labels-*.mhd')\n",
    "for labelName in labelNames:\n",
    "    labelsDictionary[labelName[:10]], labelsDictionary[labelName[:10] + '-Flipped'] = importImageExtractArray(labelName)\n",
    "\n",
    "# os.chdir(locationImages[1])\n",
    "# labelNames = glob.glob('labels-*.mhd')\n",
    "# for labelName in labelNames:\n",
    "#     labelsDictionary[labelName[:10]], labelsDictionary[labelName[:10] + '-Flipped'] = importImageExtractArray(labelName)    "
   ]
  },
  {
   "cell_type": "code",
   "execution_count": 9,
   "metadata": {
    "collapsed": false
   },
   "outputs": [
    {
     "name": "stdout",
     "output_type": "stream",
     "text": [
      "842 MB\n"
     ]
    }
   ],
   "source": [
    "print(memoryDictionary(labelsDictionary))"
   ]
  },
  {
   "cell_type": "code",
   "execution_count": 10,
   "metadata": {
    "collapsed": false
   },
   "outputs": [
    {
     "data": {
      "text/plain": [
       "dtype('uint8')"
      ]
     },
     "execution_count": 10,
     "metadata": {},
     "output_type": "execute_result"
    }
   ],
   "source": [
    "labelsDictionary[labelName[:10]].dtype"
   ]
  },
  {
   "cell_type": "code",
   "execution_count": 11,
   "metadata": {
    "collapsed": false
   },
   "outputs": [
    {
     "name": "stdout",
     "output_type": "stream",
     "text": [
      "201\n",
      "4\n"
     ]
    }
   ],
   "source": [
    "print(imagesDictionary[imageName[:9]].max())\n",
    "print(labelsDictionary[labelName[:10]].max())"
   ]
  },
  {
   "cell_type": "code",
   "execution_count": 12,
   "metadata": {
    "collapsed": false
   },
   "outputs": [
    {
     "data": {
      "text/plain": [
       "(104, 356, 269)"
      ]
     },
     "execution_count": 12,
     "metadata": {},
     "output_type": "execute_result"
    }
   ],
   "source": [
    "shape = labelsDictionary[labelName[:10]].shape\n",
    "shape"
   ]
  },
  {
   "cell_type": "code",
   "execution_count": 13,
   "metadata": {
    "collapsed": false
   },
   "outputs": [
    {
     "name": "stdout",
     "output_type": "stream",
     "text": [
      "Smallest Dimensions are: [92, 316, 259]\n",
      "Largest Dimensions are: [120, 396, 343]\n"
     ]
    }
   ],
   "source": [
    "smallest = [1000,1000,1000]\n",
    "largest = [0,0,0]\n",
    "for labelName in labelNames:\n",
    "    shape = labelsDictionary[labelName[:10]].shape\n",
    "    smallest = [min([smallest[0], shape[0]]),  min([smallest[1], shape[1]]), min([smallest[2], shape[2]])]\n",
    "    largest = [max([largest[0], shape[0]]),  max([largest[1], shape[1]]), max([largest[2], shape[2]])]\n",
    "print('Smallest Dimensions are: ' + str(smallest))\n",
    "print('Largest Dimensions are: ' + str(largest))"
   ]
  },
  {
   "cell_type": "markdown",
   "metadata": {},
   "source": [
    "Code was run on this dataset to get the minimum and maximum dimensions. The result was: \n",
    "\n",
    "- MinSize is: [92, 314, 247]\n",
    "- MaxSize is: [120, 437, 343]\n",
    "\n",
    "This was used in determining how big to pad the images to be. "
   ]
  },
  {
   "cell_type": "markdown",
   "metadata": {},
   "source": [
    "Pad every slice of each image so that the resulting slices are of shape 450,350. This is slightly bigger than the biggest in plane resolution. I didnt want to register each image as I thought this might make the algorithm more robust to differences in alignment etc. We'll see how it works out.\n",
    "\n",
    "The padding is done for both image and labels. "
   ]
  },
  {
   "cell_type": "code",
   "execution_count": 14,
   "metadata": {
    "collapsed": true
   },
   "outputs": [],
   "source": [
    "img_rows, img_cols = 320, 256"
   ]
  },
  {
   "cell_type": "code",
   "execution_count": 17,
   "metadata": {
    "collapsed": false
   },
   "outputs": [
    {
     "ename": "NameError",
     "evalue": "name 'imageDimensions' is not defined",
     "output_type": "error",
     "traceback": [
      "\u001b[0;31m---------------------------------------------------------------------------\u001b[0m",
      "\u001b[0;31mNameError\u001b[0m                                 Traceback (most recent call last)",
      "\u001b[0;32m<ipython-input-17-59adaad620c4>\u001b[0m in \u001b[0;36m<module>\u001b[0;34m()\u001b[0m\n\u001b[0;32m----> 1\u001b[0;31m \u001b[0mimageDimensions\u001b[0m\u001b[0;34m\u001b[0m\u001b[0m\n\u001b[0m",
      "\u001b[0;31mNameError\u001b[0m: name 'imageDimensions' is not defined"
     ]
    }
   ],
   "source": [
    "imageDimensions"
   ]
  },
  {
   "cell_type": "code",
   "execution_count": 18,
   "metadata": {
    "collapsed": false
   },
   "outputs": [],
   "source": [
    "for image in imagesDictionary:\n",
    "    imageDimensions = imagesDictionary[image].shape\n",
    "    imagesDictionary[image] = tf.resize(imagesDictionary[image], (imageDimensions[0], imageDimensions[1]/1.35, imageDimensions[2]/1.35), order=3)\n",
    "    imagesDictionary[image] = padImage(imagesDictionary[image], [len(imagesDictionary[image][:,1,1]), img_rows, img_cols])\n",
    "                                        \n",
    "    labelName = ('labels-' + image[6:])\n",
    "    labelsDictionary[labelName] = tf.resize(labelsDictionary[labelName], (imageDimensions[0], imageDimensions[1]/1.35, imageDimensions[2]/1.35), order=0)\n",
    "    labelsDictionary[labelName] = padImage(labelsDictionary[labelName], [len(labelsDictionary[labelName][:,1,1]), img_rows, img_cols])"
   ]
  },
  {
   "cell_type": "code",
   "execution_count": 19,
   "metadata": {
    "collapsed": false
   },
   "outputs": [
    {
     "name": "stdout",
     "output_type": "stream",
     "text": [
      "5 GB\n",
      "5 GB\n"
     ]
    }
   ],
   "source": [
    "print(memoryDictionary(imagesDictionary))\n",
    "print(memoryDictionary(labelsDictionary))"
   ]
  },
  {
   "cell_type": "code",
   "execution_count": 20,
   "metadata": {
    "collapsed": false
   },
   "outputs": [
    {
     "name": "stdout",
     "output_type": "stream",
     "text": [
      "[ 8692.]\n"
     ]
    }
   ],
   "source": [
    "noSlices = numpy.zeros([1])\n",
    "for image in imagesDictionary:\n",
    "    noSlices = noSlices + len(imagesDictionary[image][:,1,1])\n",
    "print(noSlices)"
   ]
  },
  {
   "cell_type": "code",
   "execution_count": 21,
   "metadata": {
    "collapsed": false
   },
   "outputs": [
    {
     "name": "stdout",
     "output_type": "stream",
     "text": [
      "float64\n",
      "float64\n"
     ]
    }
   ],
   "source": [
    "print(imagesDictionary[image].dtype)\n",
    "print(labelsDictionary[labelName].dtype)"
   ]
  },
  {
   "cell_type": "code",
   "execution_count": 22,
   "metadata": {
    "collapsed": false,
    "scrolled": false
   },
   "outputs": [
    {
     "name": "stderr",
     "output_type": "stream",
     "text": [
      "/home/ubuntu/miniconda/lib/python2.7/site-packages/ipykernel/__main__.py:1: VisibleDeprecationWarning: using a non-integer number instead of an integer will result in an error in the future\n",
      "  if __name__ == '__main__':\n",
      "/home/ubuntu/miniconda/lib/python2.7/site-packages/ipykernel/__main__.py:2: VisibleDeprecationWarning: using a non-integer number instead of an integer will result in an error in the future\n",
      "  from ipykernel import kernelapp as app\n"
     ]
    }
   ],
   "source": [
    "train_images = numpy.ndarray((noSlices, img_rows, img_cols), dtype=numpy.float32)\n",
    "train_labels = numpy.ndarray((noSlices, img_rows, img_cols), dtype=numpy.uint8)\n",
    "index=0\n",
    "for image in imagesDictionary:\n",
    "    imageSlices = len(imagesDictionary[image][:,1,1])\n",
    "#     for imageSlice in range(len(imagesDictionary[image][:,1,1])):\n",
    "    train_images[index:index+imageSlices] = imagesDictionary[image]\n",
    "    train_labels[index:index+imageSlices] = labelsDictionary[('labels-' + image[6:])]\n",
    "    index +=imageSlices\n",
    "    imagesDictionary[image] = None\n",
    "    labelsDictionary[('labels-' + image[6:])] = None\n",
    "# numpy.save(location2SaveNumpy + 'train_images.npy', train_images)\n",
    "# numpy.save(location2SaveNumpy + 'train_labels.npy', train_labels)\n",
    "# print('Saving .npy files done')"
   ]
  },
  {
   "cell_type": "code",
   "execution_count": null,
   "metadata": {
    "collapsed": true
   },
   "outputs": [],
   "source": []
  },
  {
   "cell_type": "code",
   "execution_count": null,
   "metadata": {
    "collapsed": true
   },
   "outputs": [],
   "source": []
  },
  {
   "cell_type": "code",
   "execution_count": null,
   "metadata": {
    "collapsed": false
   },
   "outputs": [],
   "source": [
    "\n",
    "gc.collect()\n",
    "train_images = numpy.ndarray((noSlices, img_rows/2, img_cols/2), dtype=imagesDictionary[image].dtype)"
   ]
  },
  {
   "cell_type": "code",
   "execution_count": null,
   "metadata": {
    "collapsed": false
   },
   "outputs": [],
   "source": [
    "import psutil"
   ]
  },
  {
   "cell_type": "code",
   "execution_count": null,
   "metadata": {
    "collapsed": false
   },
   "outputs": [],
   "source": [
    "print(noSlices)\n",
    "print(img_rows)\n",
    "print(img_cols)\n"
   ]
  },
  {
   "cell_type": "code",
   "execution_count": null,
   "metadata": {
    "collapsed": false
   },
   "outputs": [],
   "source": [
    "print(train_images.shape)\n",
    "print(train_labels.shape)\n",
    "imagesDictionary = None\n",
    "labelsDictionary = None"
   ]
  },
  {
   "cell_type": "code",
   "execution_count": null,
   "metadata": {
    "collapsed": false
   },
   "outputs": [],
   "source": [
    "(train_images.shape[0],1,train_images.shape[1], train_images.shape[2])"
   ]
  },
  {
   "cell_type": "code",
   "execution_count": null,
   "metadata": {
    "collapsed": false
   },
   "outputs": [],
   "source": [
    "train_images = numpy.expand_dims(train_images, axis=1)\n",
    "train_labels = numpy.expand_dims(train_labels, axis=1)\n",
    "print(train_images.shape)\n",
    "print(train_labels.shape)\n"
   ]
  },
  {
   "cell_type": "code",
   "execution_count": null,
   "metadata": {
    "collapsed": false
   },
   "outputs": [],
   "source": [
    "numpy.save(location2SaveNumpy + 'train_images.npy', train_images)\n",
    "numpy.save(location2SaveNumpy + 'train_labels.npy', train_labels)\n",
    "print('Saving .npy files done')"
   ]
  }
 ],
 "metadata": {
  "anaconda-cloud": {},
  "kernelspec": {
   "display_name": "Python [default]",
   "language": "python",
   "name": "python2"
  },
  "language_info": {
   "codemirror_mode": {
    "name": "ipython",
    "version": 2
   },
   "file_extension": ".py",
   "mimetype": "text/x-python",
   "name": "python",
   "nbconvert_exporter": "python",
   "pygments_lexer": "ipython2",
   "version": "2.7.13"
  }
 },
 "nbformat": 4,
 "nbformat_minor": 1
}
