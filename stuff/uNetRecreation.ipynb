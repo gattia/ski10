{
 "cells": [
  {
   "cell_type": "code",
   "execution_count": 2,
   "metadata": {
    "collapsed": true
   },
   "outputs": [],
   "source": [
    "import numpy\n",
    "import os\n",
    "import glob\n",
    "import matplotlib.pyplot as plt\n",
    "from skimage import transform as tf\n",
    "import math \n",
    "%matplotlib inline"
   ]
  },
  {
   "cell_type": "code",
   "execution_count": 5,
   "metadata": {
    "collapsed": false
   },
   "outputs": [
    {
     "name": "stderr",
     "output_type": "stream",
     "text": [
      "Using TensorFlow backend.\n"
     ]
    }
   ],
   "source": [
    "from keras.utils import np_utils"
   ]
  },
  {
   "cell_type": "code",
   "execution_count": 3,
   "metadata": {
    "collapsed": true
   },
   "outputs": [],
   "source": [
    "dataLocation = ['/Users/gattia/Data/mri/ski10Dataset/']\n",
    "trainingImages = 'train_images.npy'\n",
    "trainingLabels = 'train_labels.npy'\n",
    "\n",
    "img_rows = 448 \n",
    "img_cols = 352\n",
    "numberClasses = 5\n",
    "\n",
    "smooth = 1."
   ]
  },
  {
   "cell_type": "code",
   "execution_count": 4,
   "metadata": {
    "collapsed": true
   },
   "outputs": [],
   "source": [
    "def dice_coef(y_true, y_pred):\n",
    "    y_true_f = K.flatten(y_true)\n",
    "    y_pred_f = K.flatten(y_pred)\n",
    "    classes = y_true.shape[1]\n",
    "    dices = []\n",
    "    for label in range(len(classes)):\n",
    "        singleClass_true = y_true_f[:,label]\n",
    "        singleClass_pred = y_pred_f[:,label]\n",
    "        dices[label] = K.sum(singleClass_pred[singleClass_true==0])*2.0 / (K.sum(singleClass_pred) + K.sum(singleClass_true))\n",
    "    return (K.mean(dices))\n",
    "\n",
    "\n",
    "def dice_coef_loss(y_true, y_pred):\n",
    "    return -dice_coef(y_true, y_pred)"
   ]
  },
  {
   "cell_type": "code",
   "execution_count": 6,
   "metadata": {
    "collapsed": true
   },
   "outputs": [],
   "source": [
    "def get_net():\n",
    "    inputs = Input((1,img_rows, img_cols))\n",
    "    conv1 = Convolution2D(8,5,5, activation='relu', border_mode='same')(inputs)\n",
    "    conv1 = Convolution2D(8,5,5, activation='relu', border_mode='same')(conv1)\n",
    "    pool1 = MaxPooling2D(pool_size=(2,2))(conv1)\n",
    "    \n",
    "    conv2 = Convolution2D(8,5,5, activation='relu', border_mode='same')(pool1)\n",
    "    conv2 = Convolution2D(8,5,5, activation='relu', border_mode='same')(conv2)\n",
    "    up2 = UpSampling2D(size=(2,2))(conv2)\n",
    "    \n",
    "    conv3 = Convolution2D(8,5,5, activation='relu', border_mode='same')(up2)\n",
    "    conv3 = Convolution2D(8,5,5, activation='relu', border_mode='same')(conv3)\n",
    "    \n",
    "    conv4 = Convolution2D(5,1,1, activation='sigmoid', border_mode='same')(conv3)\n",
    "    \n",
    "    model = Model(input=inputs, output=conv4)\n",
    "    model.compile(optimizer =Adam(lr=1e-5), loss=dice_coef_loss, metrics =[dice_coef])\n",
    "    \n",
    "    return model  "
   ]
  },
  {
   "cell_type": "code",
   "execution_count": null,
   "metadata": {
    "collapsed": true
   },
   "outputs": [],
   "source": [
    "def train_and_predict():\n",
    "    "
   ]
  }
 ],
 "metadata": {
  "anaconda-cloud": {},
  "kernelspec": {
   "display_name": "Python [conda env:tf]",
   "language": "python",
   "name": "conda-env-tf-py"
  },
  "language_info": {
   "codemirror_mode": {
    "name": "ipython",
    "version": 2
   },
   "file_extension": ".py",
   "mimetype": "text/x-python",
   "name": "python",
   "nbconvert_exporter": "python",
   "pygments_lexer": "ipython2",
   "version": "2.7.12"
  }
 },
 "nbformat": 4,
 "nbformat_minor": 1
}
