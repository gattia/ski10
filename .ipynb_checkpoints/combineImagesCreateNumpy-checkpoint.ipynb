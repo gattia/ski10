{
 "cells": [
  {
   "cell_type": "markdown",
   "metadata": {},
   "source": [
    "## Concatenate Image Numpy Array\n",
    "To make this simple, we are not going to scale the third dimension. Instead we are just going to take each slice of each image and assume it is a different example. This way we can concatenate all of the slices and we will end up with a giant matrix with dimenions equal to the output size for the first 2 dimensions (320x256) and then equal to the sum of the number of slices for all of the images for the third dimension. \n",
    "\n",
    "This actually signicantly increases our sample size. It goes from 80 images to 80x100 slices or so and gives us ~8000 images/examples to play with. \n",
    "\n",
    "One of the biggest limitaitons here is that there wont be context in that third dimension. For that reason, it might be interesting to add a \"feature\" to each image. That feature might be the normalized slice number so that we get an indication of whether it is on on the edge or in the middle of the image. This might drastically help the segmentation without requiring a 3D segmentation. Though, the 3D segmentation would be the ideal end result. \n",
    "\n",
    "In the next steps, it will be important to augment this dataset by making \"more\" examples. I will create more examples by flipping the images, and by creating small pertubrations that slighlty warp the images. Though, this will only be implemented once the basic functionality of the network is known to be working. "
   ]
  },
  {
   "cell_type": "code",
   "execution_count": 1,
   "metadata": {
    "collapsed": true
   },
   "outputs": [],
   "source": [
    "import SimpleITK as sitk\n",
    "import numpy\n",
    "import os\n",
    "import glob"
   ]
  },
  {
   "cell_type": "code",
   "execution_count": 2,
   "metadata": {
    "collapsed": true
   },
   "outputs": [],
   "source": [
    "location = 'amazon'\n",
    "\n",
    "if location == 'amazon':\n",
    "    paddedImagesLocation = '/vol/data/paddedImages/'\n",
    "    numpySaveLocation = '/vol/data/numpyTraining/'\n",
    "    trainImagesName = 'padded_training_images'\n",
    "    labelImagesName = 'padded_training_labels'\n",
    "elif location == 'local':  \n",
    "    paddedImagesLocation = '/Users/gattia/Data/mri/ski10Dataset/paddedImages/'\n",
    "    numpySaveLocation = '/Users/gattia/Data/mri/ski10Dataset/numpyTraining/'\n",
    "    trainImagesName = 'padded_training_images'\n",
    "    labelImagesName = 'padded_training_labels'\n",
    "\n",
    "outputSize = [320,256]"
   ]
  },
  {
   "cell_type": "code",
   "execution_count": 3,
   "metadata": {
    "collapsed": true
   },
   "outputs": [],
   "source": [
    "def importImageAdd2Array(numpyArray, newImageName):\n",
    "    image = sitk.ReadImage(newImageName)\n",
    "    imageArray = sitk.GetArrayFromImage(image)\n",
    "    concatenatedArray = numpy.concatenate((numpyArray, imageArray), axis=0)\n",
    "    return(concatenatedArray)\n"
   ]
  },
  {
   "cell_type": "code",
   "execution_count": 4,
   "metadata": {
    "collapsed": false
   },
   "outputs": [
    {
     "name": "stdout",
     "output_type": "stream",
     "text": [
      "image: image-073-padded.mha\n",
      "image: image-035-padded.mha\n",
      "image: image-065-padded.mha\n",
      "image: image-084-padded.mha\n",
      "image: image-068-padded.mha\n",
      "image: image-032-padded.mha\n",
      "image: image-039-padded.mha\n",
      "image: image-064-padded.mha\n",
      "image: image-095-padded.mha\n",
      "image: image-023-padded.mha\n",
      "image: image-061-padded.mha\n",
      "image: image-037-padded.mha\n",
      "image: image-014-padded.mha\n",
      "image: image-013-padded.mha\n",
      "image: image-040-padded.mha\n",
      "image: image-069-padded.mha\n",
      "image: image-090-padded.mha\n",
      "image: image-019-padded.mha\n",
      "image: image-036-padded.mha\n",
      "image: image-081-padded.mha\n",
      "image: image-074-padded.mha\n",
      "image: image-008-padded.mha\n",
      "image: image-006-padded.mha\n",
      "image: image-029-padded.mha\n",
      "image: image-026-padded.mha\n",
      "image: image-072-padded.mha\n",
      "image: image-071-padded.mha\n",
      "image: image-092-padded.mha\n",
      "image: image-097-padded.mha\n",
      "image: image-017-padded.mha\n",
      "image: image-001-padded.mha\n",
      "image: image-005-padded.mha\n",
      "image: image-098-padded.mha\n",
      "image: image-067-padded.mha\n",
      "image: image-016-padded.mha\n",
      "image: image-080-padded.mha\n",
      "image: image-091-padded.mha\n",
      "image: image-012-padded.mha\n",
      "image: image-075-padded.mha\n",
      "image: image-033-padded.mha\n",
      "image: image-094-padded.mha\n",
      "image: image-085-padded.mha\n",
      "image: image-070-padded.mha\n",
      "image: image-010-padded.mha\n",
      "image: image-015-padded.mha\n",
      "image: image-030-padded.mha\n",
      "image: image-063-padded.mha\n",
      "image: image-011-padded.mha\n",
      "image: image-038-padded.mha\n",
      "image: image-079-padded.mha\n",
      "image: image-100-padded.mha\n",
      "image: image-087-padded.mha\n",
      "image: image-034-padded.mha\n",
      "image: image-086-padded.mha\n",
      "image: image-076-padded.mha\n",
      "image: image-022-padded.mha\n",
      "image: image-082-padded.mha\n",
      "image: image-066-padded.mha\n",
      "image: image-083-padded.mha\n",
      "image: image-002-padded.mha\n",
      "image: image-021-padded.mha\n",
      "image: image-009-padded.mha\n",
      "image: image-025-padded.mha\n",
      "image: image-062-padded.mha\n",
      "image: image-004-padded.mha\n",
      "image: image-003-padded.mha\n",
      "image: image-096-padded.mha\n",
      "image: image-007-padded.mha\n",
      "image: image-024-padded.mha\n",
      "image: image-089-padded.mha\n",
      "image: image-031-padded.mha\n",
      "image: image-027-padded.mha\n",
      "image: image-099-padded.mha\n",
      "image: image-078-padded.mha\n",
      "image: image-028-padded.mha\n",
      "image: image-018-padded.mha\n",
      "image: image-077-padded.mha\n",
      "image: image-088-padded.mha\n",
      "image: image-093-padded.mha\n",
      "image: image-020-padded.mha\n",
      "label: labels-078-padded.mha\n",
      "label: labels-089-padded.mha\n",
      "label: labels-066-padded.mha\n",
      "label: labels-087-padded.mha\n",
      "label: labels-024-padded.mha\n",
      "label: labels-033-padded.mha\n",
      "label: labels-064-padded.mha\n",
      "label: labels-079-padded.mha\n",
      "label: labels-039-padded.mha\n",
      "label: labels-082-padded.mha\n",
      "label: labels-090-padded.mha\n",
      "label: labels-098-padded.mha\n",
      "label: labels-001-padded.mha\n",
      "label: labels-073-padded.mha\n",
      "label: labels-003-padded.mha\n",
      "label: labels-083-padded.mha\n",
      "label: labels-095-padded.mha\n",
      "label: labels-023-padded.mha\n",
      "label: labels-031-padded.mha\n",
      "label: labels-094-padded.mha\n",
      "label: labels-004-padded.mha\n",
      "label: labels-036-padded.mha\n",
      "label: labels-002-padded.mha\n",
      "label: labels-096-padded.mha\n",
      "label: labels-091-padded.mha\n",
      "label: labels-081-padded.mha\n",
      "label: labels-076-padded.mha\n",
      "label: labels-018-padded.mha\n",
      "label: labels-020-padded.mha\n",
      "label: labels-022-padded.mha\n",
      "label: labels-017-padded.mha\n",
      "label: labels-070-padded.mha\n",
      "label: labels-085-padded.mha\n",
      "label: labels-099-padded.mha\n",
      "label: labels-084-padded.mha\n",
      "label: labels-009-padded.mha\n",
      "label: labels-071-padded.mha\n",
      "label: labels-061-padded.mha\n",
      "label: labels-008-padded.mha\n",
      "label: labels-063-padded.mha\n",
      "label: labels-037-padded.mha\n",
      "label: labels-093-padded.mha\n",
      "label: labels-016-padded.mha\n",
      "label: labels-062-padded.mha\n",
      "label: labels-038-padded.mha\n",
      "label: labels-075-padded.mha\n",
      "label: labels-088-padded.mha\n",
      "label: labels-014-padded.mha\n",
      "label: labels-005-padded.mha\n",
      "label: labels-011-padded.mha\n",
      "label: labels-034-padded.mha\n",
      "label: labels-074-padded.mha\n",
      "label: labels-007-padded.mha\n",
      "label: labels-100-padded.mha\n",
      "label: labels-072-padded.mha\n",
      "label: labels-029-padded.mha\n",
      "label: labels-068-padded.mha\n",
      "label: labels-021-padded.mha\n",
      "label: labels-086-padded.mha\n",
      "label: labels-013-padded.mha\n",
      "label: labels-077-padded.mha\n",
      "label: labels-097-padded.mha\n",
      "label: labels-027-padded.mha\n",
      "label: labels-028-padded.mha\n",
      "label: labels-012-padded.mha\n",
      "label: labels-030-padded.mha\n"
     ]
    },
    {
     "ename": "MemoryError",
     "evalue": "",
     "output_type": "error",
     "traceback": [
      "\u001b[0;31m---------------------------------------------------------------------------\u001b[0m",
      "\u001b[0;31mMemoryError\u001b[0m                               Traceback (most recent call last)",
      "\u001b[0;32m<ipython-input-4-50ca29b1a636>\u001b[0m in \u001b[0;36m<module>\u001b[0;34m()\u001b[0m\n\u001b[1;32m     11\u001b[0m \u001b[0;32mfor\u001b[0m \u001b[0mlabelName\u001b[0m \u001b[0;32min\u001b[0m \u001b[0mlabelNames\u001b[0m\u001b[0;34m:\u001b[0m\u001b[0;34m\u001b[0m\u001b[0m\n\u001b[1;32m     12\u001b[0m     \u001b[0;32mprint\u001b[0m\u001b[0;34m(\u001b[0m\u001b[0;34m'label: '\u001b[0m \u001b[0;34m+\u001b[0m \u001b[0mlabelName\u001b[0m\u001b[0;34m)\u001b[0m\u001b[0;34m\u001b[0m\u001b[0m\n\u001b[0;32m---> 13\u001b[0;31m     \u001b[0mconcatenatedLabels\u001b[0m \u001b[0;34m=\u001b[0m \u001b[0mimportImageAdd2Array\u001b[0m\u001b[0;34m(\u001b[0m\u001b[0mconcatenatedLabels\u001b[0m\u001b[0;34m,\u001b[0m \u001b[0mlabelName\u001b[0m\u001b[0;34m)\u001b[0m\u001b[0;34m\u001b[0m\u001b[0m\n\u001b[0m",
      "\u001b[0;32m<ipython-input-3-664716f02211>\u001b[0m in \u001b[0;36mimportImageAdd2Array\u001b[0;34m(numpyArray, newImageName)\u001b[0m\n\u001b[1;32m      2\u001b[0m     \u001b[0mimage\u001b[0m \u001b[0;34m=\u001b[0m \u001b[0msitk\u001b[0m\u001b[0;34m.\u001b[0m\u001b[0mReadImage\u001b[0m\u001b[0;34m(\u001b[0m\u001b[0mnewImageName\u001b[0m\u001b[0;34m)\u001b[0m\u001b[0;34m\u001b[0m\u001b[0m\n\u001b[1;32m      3\u001b[0m     \u001b[0mimageArray\u001b[0m \u001b[0;34m=\u001b[0m \u001b[0msitk\u001b[0m\u001b[0;34m.\u001b[0m\u001b[0mGetArrayFromImage\u001b[0m\u001b[0;34m(\u001b[0m\u001b[0mimage\u001b[0m\u001b[0;34m)\u001b[0m\u001b[0;34m\u001b[0m\u001b[0m\n\u001b[0;32m----> 4\u001b[0;31m     \u001b[0mconcatenatedArray\u001b[0m \u001b[0;34m=\u001b[0m \u001b[0mnumpy\u001b[0m\u001b[0;34m.\u001b[0m\u001b[0mconcatenate\u001b[0m\u001b[0;34m(\u001b[0m\u001b[0;34m(\u001b[0m\u001b[0mnumpyArray\u001b[0m\u001b[0;34m,\u001b[0m \u001b[0mimageArray\u001b[0m\u001b[0;34m)\u001b[0m\u001b[0;34m,\u001b[0m \u001b[0maxis\u001b[0m\u001b[0;34m=\u001b[0m\u001b[0;36m0\u001b[0m\u001b[0;34m)\u001b[0m\u001b[0;34m\u001b[0m\u001b[0m\n\u001b[0m\u001b[1;32m      5\u001b[0m     \u001b[0;32mreturn\u001b[0m\u001b[0;34m(\u001b[0m\u001b[0mconcatenatedArray\u001b[0m\u001b[0;34m)\u001b[0m\u001b[0;34m\u001b[0m\u001b[0m\n",
      "\u001b[0;31mMemoryError\u001b[0m: "
     ]
    }
   ],
   "source": [
    "concatenatedImages = numpy.empty([1,outputSize[0], outputSize[1]])\n",
    "concatenatedLabels = numpy.empty([1,outputSize[0], outputSize[1]])\n",
    "\n",
    "os.chdir(paddedImagesLocation)\n",
    "imageNames = glob.glob('image-*-padded.mha')\n",
    "labelNames = glob.glob('labels-*-padded.mha')\n",
    "for imageName in imageNames:\n",
    "    print('image: ' + imageName)\n",
    "    concatenatedImages = importImageAdd2Array(concatenatedImages, imageName)\n",
    "\n",
    "for labelName in labelNames:\n",
    "    print('label: ' + labelName)\n",
    "    concatenatedLabels = importImageAdd2Array(concatenatedLabels, labelName)"
   ]
  },
  {
   "cell_type": "code",
   "execution_count": 5,
   "metadata": {
    "collapsed": true
   },
   "outputs": [],
   "source": [
    "numpy.save(numpySaveLocation+trainImagesName+'.npy', concatenatedImages)\n",
    "numpy.save(numpySaveLocation+labelImagesName+'.npy', concatenatedLabels)"
   ]
  },
  {
   "cell_type": "code",
   "execution_count": null,
   "metadata": {
    "collapsed": true
   },
   "outputs": [],
   "source": []
  }
 ],
 "metadata": {
  "kernelspec": {
   "display_name": "Python 2",
   "language": "python",
   "name": "python2"
  },
  "language_info": {
   "codemirror_mode": {
    "name": "ipython",
    "version": 2
   },
   "file_extension": ".py",
   "mimetype": "text/x-python",
   "name": "python",
   "nbconvert_exporter": "python",
   "pygments_lexer": "ipython2",
   "version": "2.7.13"
  }
 },
 "nbformat": 4,
 "nbformat_minor": 0
}
