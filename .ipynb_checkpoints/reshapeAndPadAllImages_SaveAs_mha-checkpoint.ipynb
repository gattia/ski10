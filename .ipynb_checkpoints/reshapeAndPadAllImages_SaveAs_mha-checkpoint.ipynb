{
 "cells": [
  {
   "cell_type": "code",
   "execution_count": 1,
   "metadata": {
    "collapsed": false
   },
   "outputs": [],
   "source": [
    "from __future__ import division\n",
    "import SimpleITK as sitk\n",
    "import numpy\n",
    "import os\n",
    "import glob\n",
    "import matplotlib.pyplot as plt\n",
    "from skimage import transform as tf\n",
    "import math \n",
    "%matplotlib inline"
   ]
  },
  {
   "cell_type": "code",
   "execution_count": 2,
   "metadata": {
    "collapsed": true
   },
   "outputs": [],
   "source": [
    "location = 'amazon'\n",
    "\n",
    "if location == 'amazon':\n",
    "    locationImages = ['/vol/data/TrainingData-A/', '/vol/data/TrainingData-C/']\n",
    "    savePaddedImage2 = '/vol/data/paddedImages'\n",
    "    locationValidationImages = '/vol/data/TrainingData-B/'\n",
    "    savePaddedValidation = '/vol/data/validationImages/'\n",
    "elif location == 'local':  \n",
    "    locationImages = ['/Users/gattia/Data/mri/ski10Dataset/TrainingData-A/', '/Users/gattia/Data/mri/ski10Dataset/TrainingData-C/']\n",
    "    savePaddedImage2 = '/Users/gattia/Data/mri/ski10Dataset/paddedImages'\n",
    "    locationValidationImages = '/Users/gattia/Data/mri/ski10Dataset/TrainingData-B/'\n",
    "    savePaddedValidation = '/Users/gattia/Data/mri/ski10Dataset/validationImages/'\n",
    "    \n",
    "outputSize = [320,256]\n"
   ]
  },
  {
   "cell_type": "code",
   "execution_count": 3,
   "metadata": {
    "collapsed": false
   },
   "outputs": [],
   "source": [
    "def resizeImage(imageArray, outputSize, interpOrder):\n",
    "    imageShape = numpy.asarray(imageArray.shape)\n",
    "    shapesDifference = outputSize / imageShape[1:3]\n",
    "    minimum=shapesDifference.min()\n",
    "    reshapedArray = tf.resize(imageArray, (imageShape[0], imageShape[1]*minimum, imageShape[2]*minimum), order = interpOrder, preserve_range=True)\n",
    "    return(reshapedArray)  \n",
    "\n",
    "def padImage(reshapedArray, outputSize):\n",
    "    reshapedSize = numpy.asarray(reshapedArray.shape)\n",
    "    shapesDifference = outputSize - reshapedSize[1:3]\n",
    "\n",
    "    if shapesDifference[0] ==0:\n",
    "        paddedArray = reshapedArray\n",
    "    elif shapesDifference[0] % 2 ==0:\n",
    "        paddedArray = numpy.pad(reshapedArray, [ [0,0], [int(shapesDifference[0]/2), int(shapesDifference[0]/2)], [0,0]], 'constant', constant_values=(0))\n",
    "    else:\n",
    "        paddedArray = numpy.pad(reshapedArray, [[0,0], [int(math.ceil(shapesDifference[0]/2)), int(math.floor(shapesDifference[0]/2))], [0,0]], 'constant', constant_values=(0))\n",
    "\n",
    "\n",
    "    if shapesDifference[1] ==0:\n",
    "        pass\n",
    "    elif shapesDifference[1] % 2 ==0:\n",
    "        paddedArray = numpy.pad(paddedArray, [ [0,0], [0,0], [int(shapesDifference[1]/2), int(shapesDifference[1]/2)]], 'constant', constant_values=(0))\n",
    "    else:\n",
    "        paddedArray = numpy.pad(paddedArray, [[0,0], [0,0], [int(math.ceil(shapesDifference[1]/2)), int(math.floor(shapesDifference[1]/2))]], 'constant', constant_values=(0))\n",
    "    \n",
    "    return(paddedArray)\n",
    "\n",
    "    "
   ]
  },
  {
   "cell_type": "code",
   "execution_count": 4,
   "metadata": {
    "collapsed": true
   },
   "outputs": [],
   "source": [
    "def resizeAndPadImage(imageArray, outputSize, interpOrder):\n",
    "    reshapedArray = resizeImage(imageArray, outputSize, interpOrder)\n",
    "    paddedArray = padImage(reshapedArray, outputSize)\n",
    "    return(paddedArray)\n",
    "\n",
    "def importImagesTransform(imageName, outputSize, interpOrder):\n",
    "    image = sitk.ReadImage(imageName)\n",
    "    imageArray = sitk.GetArrayFromImage(image)\n",
    "    paddedArray = resizeAndPadImage(imageArray, outputSize, interpOrder)\n",
    "    paddedImage = sitk.GetImageFromArray(paddedArray)\n",
    "    return(paddedImage, paddedArray)\n",
    "\n",
    "def transformImagesAndSave(imageNames, outputSize, save2, imageOrLabel = 0, interpOrder = 3):\n",
    "    #image = 0 ; label = 1 \n",
    "    for imageName in imageNames:\n",
    "        paddedImage, paddedArray = importImagesTransform(imageName, outputSize, interpOrder)\n",
    "        sitk.WriteImage(paddedImage, os.path.join(save2, imageName[0:(9+imageOrLabel)] + '-padded.mha'))\n",
    "        print(imageName)\n",
    "    return()\n",
    "        \n",
    "    "
   ]
  },
  {
   "cell_type": "code",
   "execution_count": 5,
   "metadata": {
    "collapsed": false
   },
   "outputs": [
    {
     "name": "stdout",
     "output_type": "stream",
     "text": [
      "image-024.mhd\n",
      "image-012.mhd\n",
      "image-025.mhd\n",
      "image-032.mhd\n",
      "image-026.mhd\n",
      "image-022.mhd\n",
      "image-030.mhd\n",
      "image-038.mhd\n",
      "image-019.mhd\n",
      "image-007.mhd\n",
      "image-010.mhd\n",
      "image-029.mhd\n",
      "image-031.mhd\n",
      "image-005.mhd\n",
      "image-037.mhd\n",
      "image-009.mhd\n",
      "image-006.mhd\n",
      "image-035.mhd\n",
      "image-011.mhd\n",
      "image-017.mhd\n",
      "image-036.mhd\n",
      "image-001.mhd\n",
      "image-013.mhd\n",
      "image-008.mhd\n",
      "image-021.mhd\n",
      "image-004.mhd\n",
      "image-040.mhd\n",
      "image-015.mhd\n",
      "image-016.mhd\n",
      "image-023.mhd\n",
      "image-034.mhd\n",
      "image-039.mhd\n",
      "image-003.mhd\n",
      "image-028.mhd\n",
      "image-014.mhd\n",
      "image-027.mhd\n",
      "image-033.mhd\n",
      "image-018.mhd\n",
      "image-002.mhd\n",
      "image-020.mhd\n",
      "labels-032.mhd\n",
      "labels-026.mhd\n",
      "labels-040.mhd\n",
      "labels-013.mhd\n",
      "labels-021.mhd\n",
      "labels-029.mhd\n",
      "labels-011.mhd\n",
      "labels-020.mhd\n",
      "labels-033.mhd\n",
      "labels-038.mhd\n",
      "labels-027.mhd\n",
      "labels-004.mhd\n",
      "labels-007.mhd\n",
      "labels-003.mhd\n",
      "labels-025.mhd\n",
      "labels-022.mhd\n",
      "labels-008.mhd\n",
      "labels-023.mhd\n",
      "labels-019.mhd\n",
      "labels-014.mhd\n",
      "labels-016.mhd\n",
      "labels-005.mhd\n",
      "labels-009.mhd\n",
      "labels-037.mhd\n",
      "labels-010.mhd\n",
      "labels-036.mhd\n",
      "labels-006.mhd\n",
      "labels-001.mhd\n",
      "labels-002.mhd\n",
      "labels-031.mhd\n",
      "labels-028.mhd\n",
      "labels-012.mhd\n",
      "labels-039.mhd\n",
      "labels-015.mhd\n",
      "labels-034.mhd\n",
      "labels-035.mhd\n",
      "labels-030.mhd\n",
      "labels-018.mhd\n",
      "labels-017.mhd\n",
      "labels-024.mhd\n"
     ]
    },
    {
     "data": {
      "text/plain": [
       "()"
      ]
     },
     "execution_count": 5,
     "metadata": {},
     "output_type": "execute_result"
    }
   ],
   "source": [
    "os.chdir(locationImages[0])\n",
    "imageNames = glob.glob('image-*.mhd')\n",
    "labelNames = glob.glob('labels-*.mhd')\n",
    "transformImagesAndSave(imageNames, outputSize, savePaddedImage2)\n",
    "transformImagesAndSave(labelNames, outputSize, savePaddedImage2, imageOrLabel=1, interpOrder=0)\n"
   ]
  },
  {
   "cell_type": "code",
   "execution_count": 6,
   "metadata": {
    "collapsed": false
   },
   "outputs": [
    {
     "name": "stdout",
     "output_type": "stream",
     "text": [
      "image-095.mhd\n",
      "image-085.mhd\n",
      "image-086.mhd\n",
      "image-064.mhd\n",
      "image-061.mhd\n",
      "image-098.mhd\n",
      "image-065.mhd\n",
      "image-072.mhd\n",
      "image-081.mhd\n",
      "image-079.mhd\n",
      "image-073.mhd\n",
      "image-078.mhd\n",
      "image-094.mhd\n",
      "image-071.mhd\n",
      "image-099.mhd\n",
      "image-087.mhd\n",
      "image-096.mhd\n",
      "image-093.mhd\n",
      "image-063.mhd\n",
      "image-070.mhd\n",
      "image-100.mhd\n",
      "image-062.mhd\n",
      "image-091.mhd\n",
      "image-089.mhd\n",
      "image-084.mhd\n",
      "image-090.mhd\n",
      "image-069.mhd\n",
      "image-080.mhd\n",
      "image-092.mhd\n",
      "image-088.mhd\n",
      "image-068.mhd\n",
      "image-097.mhd\n",
      "image-077.mhd\n",
      "image-075.mhd\n",
      "image-082.mhd\n",
      "image-076.mhd\n",
      "image-074.mhd\n",
      "image-083.mhd\n",
      "image-067.mhd\n",
      "image-066.mhd\n",
      "labels-072.mhd\n",
      "labels-090.mhd\n",
      "labels-066.mhd\n",
      "labels-082.mhd\n",
      "labels-079.mhd\n",
      "labels-065.mhd\n",
      "labels-100.mhd\n",
      "labels-099.mhd\n",
      "labels-081.mhd\n",
      "labels-083.mhd\n",
      "labels-074.mhd\n",
      "labels-070.mhd\n",
      "labels-073.mhd\n",
      "labels-080.mhd\n",
      "labels-071.mhd\n",
      "labels-087.mhd\n",
      "labels-062.mhd\n",
      "labels-077.mhd\n",
      "labels-095.mhd\n",
      "labels-085.mhd\n",
      "labels-097.mhd\n",
      "labels-067.mhd\n",
      "labels-078.mhd\n",
      "labels-088.mhd\n",
      "labels-068.mhd\n",
      "labels-075.mhd\n",
      "labels-093.mhd\n",
      "labels-063.mhd\n",
      "labels-096.mhd\n",
      "labels-091.mhd\n",
      "labels-098.mhd\n",
      "labels-061.mhd\n",
      "labels-094.mhd\n",
      "labels-084.mhd\n",
      "labels-089.mhd\n",
      "labels-076.mhd\n",
      "labels-069.mhd\n",
      "labels-092.mhd\n",
      "labels-086.mhd\n",
      "labels-064.mhd\n"
     ]
    },
    {
     "data": {
      "text/plain": [
       "()"
      ]
     },
     "execution_count": 6,
     "metadata": {},
     "output_type": "execute_result"
    }
   ],
   "source": [
    "os.chdir(locationImages[1])\n",
    "imageNames = glob.glob('image-*.mhd')\n",
    "labelNames = glob.glob('labels-*.mhd')\n",
    "transformImagesAndSave(imageNames, outputSize, savePaddedImage2)\n",
    "transformImagesAndSave(labelNames, outputSize, savePaddedImage2, imageOrLabel=1, interpOrder=0)"
   ]
  },
  {
   "cell_type": "code",
   "execution_count": 7,
   "metadata": {
    "collapsed": false
   },
   "outputs": [
    {
     "name": "stdout",
     "output_type": "stream",
     "text": [
      "image-046.mhd\n",
      "image-056.mhd\n",
      "image-042.mhd\n",
      "image-053.mhd\n",
      "image-058.mhd\n",
      "image-060.mhd\n",
      "image-055.mhd\n",
      "image-044.mhd\n",
      "image-052.mhd\n",
      "image-041.mhd\n",
      "image-047.mhd\n",
      "image-054.mhd\n",
      "image-049.mhd\n",
      "image-057.mhd\n",
      "image-045.mhd\n",
      "image-050.mhd\n",
      "image-048.mhd\n",
      "image-051.mhd\n",
      "image-043.mhd\n",
      "image-059.mhd\n",
      "labels-045.mhd\n",
      "labels-051.mhd\n",
      "labels-046.mhd\n",
      "labels-048.mhd\n",
      "labels-054.mhd\n",
      "labels-056.mhd\n",
      "labels-058.mhd\n",
      "labels-043.mhd\n",
      "labels-047.mhd\n",
      "labels-044.mhd\n",
      "labels-053.mhd\n",
      "labels-060.mhd\n",
      "labels-042.mhd\n",
      "labels-050.mhd\n",
      "labels-049.mhd\n",
      "labels-057.mhd\n",
      "labels-052.mhd\n",
      "labels-059.mhd\n",
      "labels-055.mhd\n",
      "labels-041.mhd\n"
     ]
    },
    {
     "data": {
      "text/plain": [
       "()"
      ]
     },
     "execution_count": 7,
     "metadata": {},
     "output_type": "execute_result"
    }
   ],
   "source": [
    "os.chdir(locationValidationImages)\n",
    "imageNames = glob.glob('image-*.mhd')\n",
    "labelNames = glob.glob('labels-*.mhd')\n",
    "transformImagesAndSave(imageNames, outputSize, savePaddedValidation)\n",
    "transformImagesAndSave(labelNames, outputSize, savePaddedValidation, imageOrLabel=1, interpOrder=0)"
   ]
  }
 ],
 "metadata": {
  "kernelspec": {
   "display_name": "Python 2",
   "language": "python",
   "name": "python2"
  },
  "language_info": {
   "codemirror_mode": {
    "name": "ipython",
    "version": 2
   },
   "file_extension": ".py",
   "mimetype": "text/x-python",
   "name": "python",
   "nbconvert_exporter": "python",
   "pygments_lexer": "ipython2",
   "version": "2.7.13"
  }
 },
 "nbformat": 4,
 "nbformat_minor": 0
}
